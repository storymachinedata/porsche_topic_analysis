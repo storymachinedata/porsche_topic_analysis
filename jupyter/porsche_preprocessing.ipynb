{
 "cells": [
  {
   "cell_type": "markdown",
   "id": "1f1b6467-5b6b-4a2f-b239-ae16664a4a0c",
   "metadata": {},
   "source": [
    "# Preprocessing The DataFrames"
   ]
  },
  {
   "cell_type": "markdown",
   "id": "4015c948-92a9-48a2-b0c8-e709d41ae911",
   "metadata": {},
   "source": [
    "## Imports"
   ]
  },
  {
   "cell_type": "code",
   "execution_count": 1,
   "id": "c7b847a5-122b-4686-a4e6-c508355589f4",
   "metadata": {},
   "outputs": [],
   "source": [
    "import pandas as pd\n",
    "from googletrans import Translator"
   ]
  },
  {
   "cell_type": "markdown",
   "id": "0c954406-9a21-4d3c-9b4d-c78e5bd6c301",
   "metadata": {},
   "source": [
    "## Reading the Dataframes"
   ]
  },
  {
   "cell_type": "code",
   "execution_count": 2,
   "id": "224ce704-afa0-4b36-b64a-894d39420b0f",
   "metadata": {},
   "outputs": [],
   "source": [
    "porsche_insta_df = pd.read_csv(\"./data/porsche_raw_instagram_dataset.csv\")\n",
    "bmw_insta_df = pd.read_csv(\"./data/bmw_raw_instagram_dataset.csv\")\n",
    "mercedes_insta_df = pd.read_csv(\"./data/mercedes_raw_instagram_dataset.csv\")\n",
    "porsche_lepzig_df = pd.read_csv(\"./data/porsche_leipzig_raw_instagram_dataset.csv\")"
   ]
  },
  {
   "cell_type": "code",
   "execution_count": 3,
   "id": "ea911d3d-af2e-4480-9997-cbba94931771",
   "metadata": {},
   "outputs": [
    {
     "name": "stdout",
     "output_type": "stream",
     "text": [
      "(1268, 54)\n",
      "(1000, 30)\n",
      "(1000, 58)\n",
      "(1000, 62)\n"
     ]
    }
   ],
   "source": [
    "print(porsche_insta_df.shape)\n",
    "print(bmw_insta_df.shape)\n",
    "print(mercedes_insta_df.shape)\n",
    "print(porsche_lepzig_df.shape)"
   ]
  },
  {
   "cell_type": "markdown",
   "id": "3c8164b2-dac9-49dc-9fdd-f9c5f7a621ee",
   "metadata": {},
   "source": [
    "## Preprocessing pipeline"
   ]
  },
  {
   "cell_type": "code",
   "execution_count": 7,
   "id": "6e3c8a94-ab34-41e5-9560-a1af9b945cee",
   "metadata": {},
   "outputs": [],
   "source": [
    "def drop_unecessary_columns(df: pd.DataFrame):\n",
    "    \n",
    "    column_list = [\n",
    "        'location','locationId', \"isSidecar\", \"query\",\n",
    "         \"videoUrl\", \"timestamp\",'likedByViewer', \"imgUrl\",\n",
    "        'fullName', 'videoDuration', \"caption\", \"postId\"]\n",
    "    df = df.drop(columns=column_list, axis=1)\n",
    "    df = df.loc[:,~df.columns.str.startswith(\"tagged\")]\n",
    "    return df\n",
    "\n",
    "def rename_columns(df: pd.DataFrame):\n",
    "    rename_cols = {\n",
    "        \"description\": \"postContent\",\n",
    "        \"pubDate\": \"postTimestamp\"\n",
    "    }\n",
    "    return df.rename(columns=rename_cols)\n",
    "\n",
    "def change_datatypes(df: pd.DataFrame):\n",
    "    df[\"postTimestamp\"] = pd.to_datetime(df[\"postTimestamp\"])\n",
    "    return df\n",
    "\n",
    "def get_current_year_data(df: pd.DataFrame, year: int):\n",
    "    return df[df[\"postTimestamp\"] >= f\"{year}.01.01\"].sort_values(\"postTimestamp\")\n",
    "\n",
    "def remove_duplicates(df: pd.DataFrame):\n",
    "    unique_data_size = len(df.postUrl.unique())\n",
    "    dataset_size = len(df)\n",
    "    if unique_data_size != dataset_size:\n",
    "        return df.drop_duplicates(subset=[\"postUrl\"])\n",
    "    else:\n",
    "        return df"
   ]
  },
  {
   "cell_type": "code",
   "execution_count": 8,
   "id": "70b0683a-c2da-4f78-8a2b-573012b4c221",
   "metadata": {},
   "outputs": [],
   "source": [
    "def pipeline(df: pd.DataFrame):\n",
    "    df = drop_unecessary_columns(df=df)\n",
    "    df = rename_columns(df=df)\n",
    "    df = change_datatypes(df=df)\n",
    "    df = get_current_year_data(df=df, year=2023)\n",
    "    df = remove_duplicates(df=df)\n",
    "    return df"
   ]
  },
  {
   "cell_type": "code",
   "execution_count": 9,
   "id": "fd246f6a-56a1-4a75-a8a9-f012498a676b",
   "metadata": {},
   "outputs": [],
   "source": [
    "porsche_df = pipeline(df=porsche_insta_df)\n",
    "bmw_df = pipeline(df=bmw_insta_df)\n",
    "mercedes_df = pipeline(df=mercedes_insta_df)\n",
    "porsche_leipzig_df = pipeline(df=porsche_lepzig_df)"
   ]
  },
  {
   "cell_type": "code",
   "execution_count": 11,
   "id": "6992956e-426f-4bdb-a2e2-a8f713525204",
   "metadata": {},
   "outputs": [
    {
     "name": "stdout",
     "output_type": "stream",
     "text": [
      "(129, 10)\n",
      "(138, 10)\n",
      "(205, 10)\n",
      "(153, 10)\n"
     ]
    }
   ],
   "source": [
    "print(porsche_df.shape)\n",
    "print(bmw_df.shape)\n",
    "print(mercedes_df.shape)\n",
    "print(porsche_leipzig_df.shape)"
   ]
  },
  {
   "cell_type": "markdown",
   "id": "2724c7f0-535d-41c2-8923-af8185e586a7",
   "metadata": {},
   "source": [
    "## Splitting the text in Dataset(Porsche PEC)\n",
    "\n",
    "The post content consists of German and English translations and we split the text to extract only the German version."
   ]
  },
  {
   "cell_type": "code",
   "execution_count": 14,
   "id": "0c77bcc0-b349-4f4e-9485-2a76b129bc55",
   "metadata": {},
   "outputs": [
    {
     "data": {
      "text/html": [
       "<div>\n",
       "<style scoped>\n",
       "    .dataframe tbody tr th:only-of-type {\n",
       "        vertical-align: middle;\n",
       "    }\n",
       "\n",
       "    .dataframe tbody tr th {\n",
       "        vertical-align: top;\n",
       "    }\n",
       "\n",
       "    .dataframe thead th {\n",
       "        text-align: right;\n",
       "    }\n",
       "</style>\n",
       "<table border=\"1\" class=\"dataframe\">\n",
       "  <thead>\n",
       "    <tr style=\"text-align: right;\">\n",
       "      <th></th>\n",
       "      <th>postUrl</th>\n",
       "      <th>postContent</th>\n",
       "      <th>commentCount</th>\n",
       "      <th>likeCount</th>\n",
       "      <th>postTimestamp</th>\n",
       "      <th>type</th>\n",
       "      <th>profileUrl</th>\n",
       "      <th>username</th>\n",
       "      <th>viewCount</th>\n",
       "      <th>playCount</th>\n",
       "    </tr>\n",
       "  </thead>\n",
       "  <tbody>\n",
       "    <tr>\n",
       "      <th>414</th>\n",
       "      <td>https://www.instagram.com/p/Cm6QO3Uoz-A/</td>\n",
       "      <td>Das neue Jahr hat begonnen und wir können es s...</td>\n",
       "      <td>2</td>\n",
       "      <td>298</td>\n",
       "      <td>2023-01-02 10:56:14+00:00</td>\n",
       "      <td>Photo</td>\n",
       "      <td>https://www.instagram.com/pec.hhr</td>\n",
       "      <td>pec.hhr</td>\n",
       "      <td>NaN</td>\n",
       "      <td>NaN</td>\n",
       "    </tr>\n",
       "    <tr>\n",
       "      <th>411</th>\n",
       "      <td>https://www.instagram.com/p/CnAKVbkNMQG/</td>\n",
       "      <td>Eines der großen Highlights, die 2023 auf Euch...</td>\n",
       "      <td>1</td>\n",
       "      <td>210</td>\n",
       "      <td>2023-01-04 18:00:09+00:00</td>\n",
       "      <td>Photo</td>\n",
       "      <td>https://www.instagram.com/pec.hhr</td>\n",
       "      <td>pec.hhr</td>\n",
       "      <td>NaN</td>\n",
       "      <td>NaN</td>\n",
       "    </tr>\n",
       "    <tr>\n",
       "      <th>409</th>\n",
       "      <td>https://www.instagram.com/p/CnE28ZQISr0/</td>\n",
       "      <td>Mit frischer Energie, jeder Menge neuer Ideen ...</td>\n",
       "      <td>0</td>\n",
       "      <td>149</td>\n",
       "      <td>2023-01-06 13:46:55+00:00</td>\n",
       "      <td>Photo</td>\n",
       "      <td>https://www.instagram.com/pec.hhr</td>\n",
       "      <td>pec.hhr</td>\n",
       "      <td>NaN</td>\n",
       "      <td>NaN</td>\n",
       "    </tr>\n",
       "    <tr>\n",
       "      <th>407</th>\n",
       "      <td>https://www.instagram.com/p/CnM9OMnIjOS/</td>\n",
       "      <td>\"Der 911 ist das einzige Auto, mit dem man von...</td>\n",
       "      <td>1</td>\n",
       "      <td>410</td>\n",
       "      <td>2023-01-09 17:15:41+00:00</td>\n",
       "      <td>Photo</td>\n",
       "      <td>https://www.instagram.com/pec.hhr</td>\n",
       "      <td>pec.hhr</td>\n",
       "      <td>NaN</td>\n",
       "      <td>NaN</td>\n",
       "    </tr>\n",
       "    <tr>\n",
       "      <th>406</th>\n",
       "      <td>https://www.instagram.com/p/CnSGXu7ItaI/</td>\n",
       "      <td>Weil echte Sportler bei jedem Wetter in Bewegu...</td>\n",
       "      <td>2</td>\n",
       "      <td>383</td>\n",
       "      <td>2023-01-11 17:16:16+00:00</td>\n",
       "      <td>Video</td>\n",
       "      <td>https://www.instagram.com/pec.hhr</td>\n",
       "      <td>pec.hhr</td>\n",
       "      <td>NaN</td>\n",
       "      <td>7122.0</td>\n",
       "    </tr>\n",
       "  </tbody>\n",
       "</table>\n",
       "</div>"
      ],
      "text/plain": [
       "                                      postUrl  \\\n",
       "414  https://www.instagram.com/p/Cm6QO3Uoz-A/   \n",
       "411  https://www.instagram.com/p/CnAKVbkNMQG/   \n",
       "409  https://www.instagram.com/p/CnE28ZQISr0/   \n",
       "407  https://www.instagram.com/p/CnM9OMnIjOS/   \n",
       "406  https://www.instagram.com/p/CnSGXu7ItaI/   \n",
       "\n",
       "                                           postContent  commentCount  \\\n",
       "414  Das neue Jahr hat begonnen und wir können es s...             2   \n",
       "411  Eines der großen Highlights, die 2023 auf Euch...             1   \n",
       "409  Mit frischer Energie, jeder Menge neuer Ideen ...             0   \n",
       "407  \"Der 911 ist das einzige Auto, mit dem man von...             1   \n",
       "406  Weil echte Sportler bei jedem Wetter in Bewegu...             2   \n",
       "\n",
       "     likeCount             postTimestamp   type  \\\n",
       "414        298 2023-01-02 10:56:14+00:00  Photo   \n",
       "411        210 2023-01-04 18:00:09+00:00  Photo   \n",
       "409        149 2023-01-06 13:46:55+00:00  Photo   \n",
       "407        410 2023-01-09 17:15:41+00:00  Photo   \n",
       "406        383 2023-01-11 17:16:16+00:00  Video   \n",
       "\n",
       "                            profileUrl username  viewCount  playCount  \n",
       "414  https://www.instagram.com/pec.hhr  pec.hhr        NaN        NaN  \n",
       "411  https://www.instagram.com/pec.hhr  pec.hhr        NaN        NaN  \n",
       "409  https://www.instagram.com/pec.hhr  pec.hhr        NaN        NaN  \n",
       "407  https://www.instagram.com/pec.hhr  pec.hhr        NaN        NaN  \n",
       "406  https://www.instagram.com/pec.hhr  pec.hhr        NaN     7122.0  "
      ]
     },
     "execution_count": 14,
     "metadata": {},
     "output_type": "execute_result"
    }
   ],
   "source": [
    "porsche_df.head()"
   ]
  },
  {
   "cell_type": "code",
   "execution_count": 15,
   "id": "331f521a-bc62-4e69-a48b-32935a626709",
   "metadata": {},
   "outputs": [],
   "source": [
    "filtered_content_en = []\n",
    "filtered_content_de = []\n",
    "translator = Translator()\n",
    "\n",
    "for i in range(len(porsche_df)):\n",
    "    text = porsche_df.postContent.values[i].split(\"\\n\")[0]\n",
    "    filtered_content_de.append(text)\n",
    "    text = translator.translate(text).text\n",
    "    filtered_content_en.append(text)"
   ]
  },
  {
   "cell_type": "code",
   "execution_count": 16,
   "id": "913ed8d8-3031-4774-af09-80914d4b97d5",
   "metadata": {},
   "outputs": [],
   "source": [
    "porsche_df[\"filteredContentEn\"] = filtered_content_en\n",
    "porsche_df[\"filteredContentDe\"] = filtered_content_de"
   ]
  },
  {
   "cell_type": "markdown",
   "id": "e01daf93-d5b2-4dab-a6cf-3441d4064cf2",
   "metadata": {},
   "source": [
    "## Translating Porsche Leipzig posts"
   ]
  },
  {
   "cell_type": "code",
   "execution_count": 17,
   "id": "29e3e77e-ad8f-49ea-a2d0-ba2e5be3195e",
   "metadata": {},
   "outputs": [],
   "source": [
    "def translate_text(text):\n",
    "    translator = Translator()\n",
    "    return translator.translate(text).text"
   ]
  },
  {
   "cell_type": "code",
   "execution_count": 18,
   "id": "a57c990b-de4c-481f-be2c-bf070d5f2818",
   "metadata": {},
   "outputs": [],
   "source": [
    "porsche_leipzig_df[\"postContentEn\"] = porsche_leipzig_df[\"postContent\"].apply(translate_text)"
   ]
  },
  {
   "cell_type": "markdown",
   "id": "65ebb8d4-e1a0-4fe6-9737-2607cb5c40ce",
   "metadata": {},
   "source": [
    "## Saving preprocessed DF"
   ]
  },
  {
   "cell_type": "code",
   "execution_count": 20,
   "id": "2614e51e-5367-422d-b93d-4b4bdd593192",
   "metadata": {},
   "outputs": [
    {
     "name": "stderr",
     "output_type": "stream",
     "text": [
      "/Users/kaushikdayalan/projects/storymachine_projects/porsche_topic_analysis/.env/lib/python3.9/site-packages/pandas/core/internals/blocks.py:2540: RuntimeWarning: invalid value encountered in cast\n",
      "  values = values.astype(str)\n"
     ]
    }
   ],
   "source": [
    "porsche_df.to_csv(\"./data/clean_datasets/porsche_pec_instagram_clean.csv\", index=False)\n",
    "bmw_df.to_csv(\"./data/clean_datasets/bmw_instagram_clean.csv\", index=False)\n",
    "mercedes_df.to_csv(\"./data/clean_datasets/mercedes_instagram_clean.csv\", index=False)\n",
    "porsche_leipzig_df.to_csv(\"./data/clean_datasets/porsche_leipzig_instagram_clean.csv\", index=False)"
   ]
  },
  {
   "cell_type": "code",
   "execution_count": null,
   "id": "47b29e06-d251-4b03-9417-82fa76c8db1c",
   "metadata": {},
   "outputs": [],
   "source": []
  }
 ],
 "metadata": {
  "kernelspec": {
   "display_name": "Python 3 (ipykernel)",
   "language": "python",
   "name": "python3"
  },
  "language_info": {
   "codemirror_mode": {
    "name": "ipython",
    "version": 3
   },
   "file_extension": ".py",
   "mimetype": "text/x-python",
   "name": "python",
   "nbconvert_exporter": "python",
   "pygments_lexer": "ipython3",
   "version": "3.9.6"
  }
 },
 "nbformat": 4,
 "nbformat_minor": 5
}
